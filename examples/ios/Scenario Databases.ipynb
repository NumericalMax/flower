{
 "cells": [
  {
   "cell_type": "code",
   "execution_count": 24,
   "id": "b90ae00c",
   "metadata": {},
   "outputs": [],
   "source": [
    "import pandas as pd\n",
    "from tensorflow import keras\n",
    "import coremltools as ct"
   ]
  },
  {
   "cell_type": "code",
   "execution_count": 2,
   "id": "686c227b",
   "metadata": {},
   "outputs": [],
   "source": [
    "def load_mnist():\n",
    "    (x_train, y_train), (x_test, y_test) = keras.datasets.mnist.load_data()\n",
    "    df_train = pd.DataFrame(x_train.reshape(x_train.shape[0], x_train.shape[1] * x_train.shape[2]))\n",
    "    df_train['target'] = y_train\n",
    "    df_train.to_csv('./mnist_train.txt', index=False, header=False)\n",
    "    df_test = pd.DataFrame(x_test.reshape(x_test.shape[0], x_test.shape[1] * x_test.shape[2]))\n",
    "    df_test['target'] = y_test\n",
    "    df_test.to_csv('./mnist_test.txt', index=False, header=False)"
   ]
  },
  {
   "cell_type": "code",
   "execution_count": 3,
   "id": "a4fa8ecc",
   "metadata": {},
   "outputs": [],
   "source": [
    "def load_cifar():\n",
    "    (x_train, y_train), (x_test, y_test) = keras.datasets.cifar10.load_data()\n",
    "    df_train = pd.DataFrame(x_train.reshape(x_train.shape[0], x_train.shape[1] * x_train.shape[2] * x_train.shape[3]))\n",
    "    df_train['target'] = y_train\n",
    "    df_train.to_csv('./cifar_train.txt', index=False, header=False)\n",
    "    df_test = pd.DataFrame(x_test.reshape(x_test.shape[0], x_test.shape[1] * x_test.shape[2] * x_test.shape[3]))\n",
    "    df_test['target'] = y_test\n",
    "    df_test.to_csv('./cifar_test.txt', index=False, header=False)"
   ]
  },
  {
   "cell_type": "code",
   "execution_count": 5,
   "id": "f222f213",
   "metadata": {},
   "outputs": [],
   "source": [
    "def load_boston():\n",
    "    (x_train, y_train), (x_test, y_test) = keras.datasets.boston_housing.load_data()\n",
    "    df_train = pd.DataFrame(x_train.reshape(x_train.shape[0], x_train.shape[1]))\n",
    "    df_train['target'] = y_train\n",
    "    df_train.to_csv('./boston_train.txt', index=False, header=False)\n",
    "    df_test = pd.DataFrame(x_test.reshape(x_test.shape[0], x_test.shape[1]))\n",
    "    df_test['target'] = y_test\n",
    "    df_test.to_csv('./boston_test.txt', index=False, header=False)"
   ]
  },
  {
   "cell_type": "code",
   "execution_count": 3,
   "id": "16564122",
   "metadata": {},
   "outputs": [],
   "source": [
    "load_mnist()\n",
    "load_cifar()\n",
    "load_boston()"
   ]
  },
  {
   "cell_type": "code",
   "execution_count": 6,
   "id": "b374140e",
   "metadata": {},
   "outputs": [],
   "source": [
    "!lzfse -encode -i mnist_train.txt -o FLiOS/Scenarios/MNIST/MNIST_train.csv.lzfse\n",
    "!lzfse -encode -i mnist_test.txt -o FLiOS/Scenarios/MNIST/MNIST_test.csv.lzfse "
   ]
  },
  {
   "cell_type": "code",
   "execution_count": 7,
   "id": "2ec8ec27",
   "metadata": {},
   "outputs": [],
   "source": [
    "!lzfse -encode -i cifar_train.txt -o FLiOS/Scenarios/CIFAR/CIFAR_train.csv.lzfse\n",
    "!lzfse -encode -i cifar_test.txt -o FLiOS/Scenarios/CIFAR/CIFAR_test.csv.lzfse "
   ]
  },
  {
   "cell_type": "code",
   "execution_count": 4,
   "id": "c306ca04",
   "metadata": {},
   "outputs": [],
   "source": [
    "!lzfse -encode -i boston_train.txt -o FLiOS/Scenarios/BOSTON/BOSTON_train.csv.lzfse\n",
    "!lzfse -encode -i boston_test.txt -o FLiOS/Scenarios/BOSTON/BOSTON_test.csv.lzfse "
   ]
  },
  {
   "cell_type": "code",
   "execution_count": 7,
   "id": "e63ef735",
   "metadata": {},
   "outputs": [],
   "source": [
    "def get_mnist_model():\n",
    "    # ...\n",
    "    return \"model\""
   ]
  },
  {
   "cell_type": "code",
   "execution_count": 10,
   "id": "7fd0b23c",
   "metadata": {},
   "outputs": [],
   "source": [
    "def get_cifar_model():\n",
    "    \n",
    "    # Create model\n",
    "    model = keras.models.Sequential()\n",
    "\n",
    "    # Add layers\n",
    "    model.add(keras.layers.Conv2D(32, kernel_size=(3, 3), activation='relu', input_shape=(32, 32, 3)))\n",
    "    model.add(keras.layers.Conv2D(64, kernel_size=(3, 3), activation='relu'))\n",
    "    model.add(keras.layers.MaxPooling2D(pool_size=(2, 2)))\n",
    "    model.add(keras.layers.Dropout(0.25))\n",
    "\n",
    "    # Layer\n",
    "    model.add(keras.layers.Conv2D(128, kernel_size=(3, 3), activation='relu'))\n",
    "    model.add(keras.layers.MaxPooling2D(pool_size=(2, 2)))\n",
    "    model.add(keras.layers.Conv2D(128, kernel_size=(3, 3), activation='relu'))\n",
    "    model.add(keras.layers.MaxPooling2D(pool_size=(2, 2)))\n",
    "    model.add(keras.layers.Dropout(0.25))\n",
    "\n",
    "    # Layer\n",
    "    model.add(keras.layers.Flatten())\n",
    "    model.add(keras.layers.Dense(1024, activation='relu'))\n",
    "    model.add(keras.layers.Dropout(0.5))\n",
    "    model.add(keras.layers.Dense(10, activation='softmax'))\n",
    "    \n",
    "    return model"
   ]
  },
  {
   "cell_type": "code",
   "execution_count": 11,
   "id": "50718165",
   "metadata": {},
   "outputs": [],
   "source": [
    "def get_boston_model():\n",
    "    \n",
    "    model = keras.models.Sequential()\n",
    "    model.add(keras.layers.Dense(100, input_dim = 13, activation='relu'))\n",
    "    model.add(keras.layers.Dense(100, activation='relu'))\n",
    "    model.add(keras.layers.Dense(1, activation='linear'))\n",
    "    \n",
    "    return model"
   ]
  },
  {
   "cell_type": "code",
   "execution_count": 30,
   "id": "c94d44d6",
   "metadata": {},
   "outputs": [],
   "source": [
    "#model_mnist = get_mnist_model()\n",
    "model_cifar = get_cifar_model()\n",
    "model_boston = get_boston_model()"
   ]
  },
  {
   "cell_type": "code",
   "execution_count": 31,
   "id": "947be049",
   "metadata": {},
   "outputs": [
    {
     "name": "stderr",
     "output_type": "stream",
     "text": [
      "Running TensorFlow Graph Passes: 100%|██████████████████████████████████████████████████████████████████████████████████████████████████████| 6/6 [00:00<00:00, 55.27 passes/s]\n",
      "Converting TF Frontend ==> MIL Ops: 100%|██████████████████████████████████████████████████████████████████████████████████████████████████| 25/25 [00:00<00:00, 2201.64 ops/s]\n",
      "Running MIL Common passes: 100%|████████████████████████████████████████████████████████████████████████████████████████████████████████| 40/40 [00:00<00:00, 1938.93 passes/s]\n",
      "Running MIL Clean up passes: 100%|██████████████████████████████████████████████████████████████████████████████████████████████████████| 11/11 [00:00<00:00, 1279.07 passes/s]\n",
      "Translating MIL ==> NeuralNetwork Ops: 100%|████████████████████████████████████████████████████████████████████████████████████████████████| 67/67 [00:00<00:00, 225.16 ops/s]\n",
      "Running TensorFlow Graph Passes: 100%|██████████████████████████████████████████████████████████████████████████████████████████████████████| 6/6 [00:00<00:00, 56.59 passes/s]\n",
      "Converting TF Frontend ==> MIL Ops: 100%|█████████████████████████████████████████████████████████████████████████████████████████████████| 10/10 [00:00<00:00, 10939.76 ops/s]\n",
      "Running MIL Common passes: 100%|████████████████████████████████████████████████████████████████████████████████████████████████████████| 40/40 [00:00<00:00, 7716.15 passes/s]\n",
      "Running MIL Clean up passes: 100%|█████████████████████████████████████████████████████████████████████████████████████████████████████| 11/11 [00:00<00:00, 10016.79 passes/s]\n",
      "Translating MIL ==> NeuralNetwork Ops: 100%|███████████████████████████████████████████████████████████████████████████████████████████████| 14/14 [00:00<00:00, 2906.37 ops/s]\n"
     ]
    }
   ],
   "source": [
    "#model_mnist = ct.convert(model_mnist)\n",
    "model_cifar = ct.convert(model_cifar)\n",
    "model_boston = ct.convert(model_boston)"
   ]
  },
  {
   "cell_type": "code",
   "execution_count": 32,
   "id": "c1bbb527",
   "metadata": {},
   "outputs": [],
   "source": [
    "model_cifar.save('./FLiOS/Scenarios/CIFAR/CIFAR_model.mlmodel')\n",
    "model_boston.save('./FLiOS/Scenarios/BOSTON/BOSTON_model.mlmodel')"
   ]
  },
  {
   "cell_type": "code",
   "execution_count": null,
   "id": "1ac7a21b",
   "metadata": {},
   "outputs": [],
   "source": []
  },
  {
   "cell_type": "code",
   "execution_count": null,
   "id": "91619a42",
   "metadata": {},
   "outputs": [],
   "source": []
  }
 ],
 "metadata": {
  "kernelspec": {
   "display_name": "Python 3 (ipykernel)",
   "language": "python",
   "name": "python3"
  },
  "language_info": {
   "codemirror_mode": {
    "name": "ipython",
    "version": 3
   },
   "file_extension": ".py",
   "mimetype": "text/x-python",
   "name": "python",
   "nbconvert_exporter": "python",
   "pygments_lexer": "ipython3",
   "version": "3.9.16"
  }
 },
 "nbformat": 4,
 "nbformat_minor": 5
}
