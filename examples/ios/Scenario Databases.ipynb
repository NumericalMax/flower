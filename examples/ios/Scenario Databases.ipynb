{
 "cells": [
  {
   "cell_type": "code",
   "execution_count": 1,
   "id": "b90ae00c",
   "metadata": {},
   "outputs": [],
   "source": [
    "import pandas as pd\n",
    "from tensorflow import keras"
   ]
  },
  {
   "cell_type": "code",
   "execution_count": 2,
   "id": "686c227b",
   "metadata": {},
   "outputs": [],
   "source": [
    "def load_mnist():\n",
    "    (x_train, y_train), (x_test, y_test) = keras.datasets.mnist.load_data()\n",
    "    df_train = pd.DataFrame(x_train.reshape(x_train.shape[0], x_train.shape[1] * x_train.shape[2]))\n",
    "    df_train['target'] = y_train\n",
    "    df_train.to_csv('./mnist_train.txt', index=False, header=False)\n",
    "    df_test = pd.DataFrame(x_test.reshape(x_test.shape[0], x_test.shape[1] * x_test.shape[2]))\n",
    "    df_test['target'] = y_test\n",
    "    df_test.to_csv('./mnist_test.txt', index=False, header=False)"
   ]
  },
  {
   "cell_type": "code",
   "execution_count": 3,
   "id": "a4fa8ecc",
   "metadata": {},
   "outputs": [],
   "source": [
    "def load_cifar():\n",
    "    (x_train, y_train), (x_test, y_test) = keras.datasets.cifar10.load_data()\n",
    "    df_train = pd.DataFrame(x_train.reshape(x_train.shape[0], x_train.shape[1] * x_train.shape[2] * x_train.shape[3]))\n",
    "    df_train['target'] = y_train\n",
    "    df_train.to_csv('./cifar_train.txt', index=False, header=False)\n",
    "    df_test = pd.DataFrame(x_test.reshape(x_test.shape[0], x_test.shape[1] * x_test.shape[2] * x_test.shape[3]))\n",
    "    df_test['target'] = y_test\n",
    "    df_test.to_csv('./cifar_test.txt', index=False, header=False)"
   ]
  },
  {
   "cell_type": "code",
   "execution_count": 4,
   "id": "f222f213",
   "metadata": {},
   "outputs": [],
   "source": [
    "def load_boston_housing():\n",
    "    (x_train, y_train), (x_test, y_test) = keras.datasets.boston_housing.load_data()\n",
    "    df_train = pd.DataFrame(x_train.reshape(x_train.shape[0], x_train.shape[1]))\n",
    "    df_train['target'] = y_train\n",
    "    df_train.to_csv('./boston_train.txt', index=False, header=False)\n",
    "    df_test = pd.DataFrame(x_test.reshape(x_test.shape[0], x_test.shape[1]))\n",
    "    df_test['target'] = y_test\n",
    "    df_test.to_csv('./boston_test.txt', index=False, header=False)"
   ]
  },
  {
   "cell_type": "code",
   "execution_count": 5,
   "id": "16564122",
   "metadata": {},
   "outputs": [],
   "source": [
    "load_mnist()\n",
    "load_cifar()\n",
    "load_boston_housing()"
   ]
  },
  {
   "cell_type": "code",
   "execution_count": 6,
   "id": "b374140e",
   "metadata": {},
   "outputs": [],
   "source": [
    "!lzfse -encode -i mnist_train.txt -o FLiOS/Scenarios/MNIST/MNIST_train.csv.lzfse\n",
    "!lzfse -encode -i mnist_test.txt -o FLiOS/Scenarios/MNIST/MNIST_test.csv.lzfse "
   ]
  },
  {
   "cell_type": "code",
   "execution_count": 7,
   "id": "2ec8ec27",
   "metadata": {},
   "outputs": [],
   "source": [
    "!lzfse -encode -i cifar_train.txt -o FLiOS/Scenarios/CIFAR/CIFAR_train.csv.lzfse\n",
    "!lzfse -encode -i cifar_test.txt -o FLiOS/Scenarios/CIFAR/CIFAR_test.csv.lzfse "
   ]
  },
  {
   "cell_type": "code",
   "execution_count": 8,
   "id": "c306ca04",
   "metadata": {},
   "outputs": [],
   "source": [
    "!lzfse -encode -i boston_train.txt -o FLiOS/Scenarios/BOSTON/BOSTON_train.csv.lzfse\n",
    "!lzfse -encode -i boston_test.txt -o FLiOS/Scenarios/BOSTON/BOSTON_test.csv.lzfse "
   ]
  }
 ],
 "metadata": {
  "kernelspec": {
   "display_name": "Python 3 (ipykernel)",
   "language": "python",
   "name": "python3"
  },
  "language_info": {
   "codemirror_mode": {
    "name": "ipython",
    "version": 3
   },
   "file_extension": ".py",
   "mimetype": "text/x-python",
   "name": "python",
   "nbconvert_exporter": "python",
   "pygments_lexer": "ipython3",
   "version": "3.9.16"
  }
 },
 "nbformat": 4,
 "nbformat_minor": 5
}
